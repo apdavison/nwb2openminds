{
 "cells": [
  {
   "cell_type": "markdown",
   "id": "f6b2df0b",
   "metadata": {},
   "source": [
    "# Dataset of two-photon recording of SST+ interneurons\n",
    "\n",
    "Two mouse lines:\n",
    "\n",
    "- Wild-Type strain: \"Sst-IRES-Cre\"\n",
    "      \n",
    "    https://www.jax.org/strain/013044\n",
    "\n",
    "- SST::GluN1-KO strain: \"Sst-IRES-Cre\" with the \"NR1flox\"\n",
    "  \n",
    "    https://www.jax.org/strain/005246"
   ]
  },
  {
   "cell_type": "code",
   "execution_count": 1,
   "id": "aa624149",
   "metadata": {},
   "outputs": [],
   "source": [
    "# general python modules for scientific analysis\n",
    "import os\n",
    "import numpy as np\n",
    "\n",
    "# load the NWB python API\n",
    "import pynwb\n",
    "\n",
    "# Data are stored as (nFeatures, nTimesamps) instead of (nTimesamps, nFeatures)\n",
    "# this generates a warning for each modality, so we disable them\n",
    "import warnings\n",
    "warnings.filterwarnings(\"ignore\")\n",
    "\n",
    "root_datafolder = os.path.join(os.path.expanduser('~'), 'Downloads', 'nwb-data-sharing-pipeline-SST-FF-Gratings-Stim')"
   ]
  },
  {
   "cell_type": "markdown",
   "id": "51b41498-fc5e-41c0-b012-8bd3f0636899",
   "metadata": {},
   "source": [
    "## Loop over datafiles"
   ]
  },
  {
   "cell_type": "code",
   "execution_count": 6,
   "id": "7ec92e35-c8ef-4d25-b1a1-59773f500bee",
   "metadata": {},
   "outputs": [
    {
     "name": "stdout",
     "output_type": "stream",
     "text": [
      "\n",
      "------ Wild-Type Dataset ------ \n",
      "- file: 2023_04_26-14-32-34.nwb -> subject: \"MAAF1_SSTcre\" \n",
      "- file: 2023_05_04-16-33-57.nwb -> subject: \"MAAF2_SSTcre\" \n",
      "- file: 2023_05_10-11-52-35.nwb -> subject: \"MAAG1_SSTcre\" \n",
      "- file: 2023_02_15-15-10-04.nwb -> subject: \"MT1_SSTtdTomato\" \n",
      "- file: 2023_02_17-15-30-46.nwb -> subject: \"MT2_SSTtdTomato\" \n",
      "- file: 2023_04_19-12-03-19.nwb -> subject: \"MAAE1_SSTcreXtdTomato\" \n",
      "- file: 2023_03_28-12-31-50.nwb -> subject: \"MAAD1_SSTcreXtdTomato\" \n",
      "- file: 2023_02_17-16-15-09.nwb -> subject: \"MT2_SSTtdTomato\" \n",
      "- file: 2023_02_15-13-30-47.nwb -> subject: \"MT2_SSTtdTomato\" \n",
      "- file: 2023_05_11-15-25-41.nwb -> subject: \"MAAG1_SSTcre\" \n",
      "- file: 2023_02_17-17-39-12.nwb -> subject: \"MT1_SSTtdTomato\" \n",
      "- file: 2023_02_17-17-02-46.nwb -> subject: \"MT1_SSTtdTomato\" \n",
      "- file: 2023_04_28-12-12-30.nwb -> subject: \"MAAF1_SSTcre\" \n",
      "- file: 2023_02_15-15-48-06.nwb -> subject: \"MT1_SSTtdTomato\" \n",
      "- file: 2023_05_05-16-02-45.nwb -> subject: \"MAAF2_SSTcre\" \n",
      "- file: 2023_02_15-14-05-01.nwb -> subject: \"MT2_SSTtdTomato\" \n",
      "- file: 2023_04_21-17-01-03.nwb -> subject: \"MAAE1_SSTcreXtdTomato\" \n",
      "- file: 2023_03_31-12-55-47.nwb -> subject: \"MAAD1_SSTcreXtdTomato\" \n",
      "Wild-Type Dataset: N=7 mice, N=18 sessions\n",
      "\n",
      "------ GluN1-KO Dataset ------ \n",
      "- file: 2023_05_11-18-29-12.nwb -> subject: \"MAAI1_SSTcreNR1\" \n",
      "- file: 2023_02_15-17-14-56.nwb -> subject: \"MAAC4_SSTtdTomatoxGluN1KO\" \n",
      "- file: 2023_05_10-13-02-57.nwb -> subject: \"MAAH1_SSTcreNR1\" \n",
      "- file: 2023_02_15-18-05-25.nwb -> subject: \"MAAB2_SSTtdTomatoxGluN1KO\" \n",
      "- file: 2023_02_17-14-35-39.nwb -> subject: \"MAAA1_SSTtdTomatoxGluN1KO\" \n",
      "- file: 2023_02_17-18-47-20.nwb -> subject: \"MAAC4_SSTtdTomatoxGluN1KO\" \n",
      "- file: 2023_05_11-16-47-14.nwb -> subject: \"MAAH1_SSTcreNR1\" \n",
      "- file: 2023_02_17-13-48-50.nwb -> subject: \"MAAA1_SSTtdTomatoxGluN1KO\" \n",
      "- file: 2023_02_15-11-53-39.nwb -> subject: \"MAAA1_SSTtdTomatoxGluN1KO\" \n",
      "- file: 2023_05_10-14-23-41.nwb -> subject: \"MAAH1_SSTcreNR1\" \n",
      "- file: 2023_02_15-12-41-21.nwb -> subject: \"MAAA1_SSTtdTomatoxGluN1KO\" \n",
      "- file: 2023_02_17-19-21-51.nwb -> subject: \"MAAC4_SSTtdTomatoxGluN1KO\" \n",
      "- file: 2023_02_15-18-52-59.nwb -> subject: \"MAAB2_SSTtdTomatoxGluN1KO\" \n",
      "- file: 2023_02_15-16-40-50.nwb -> subject: \"MAAC4_SSTtdTomatoxGluN1KO\" \n",
      "GluN1-KO Dataset: N=5 mice, N=14 sessions\n"
     ]
    }
   ],
   "source": [
    "Dataset = {}\n",
    "for strain in ['Wild-Type', 'GluN1-KO']:\n",
    "    print('\\n------ %s Dataset ------ ' % strain)\n",
    "    Dataset[strain] = {'files':[], 'subjects':[]}\n",
    "    for fn in os.listdir(os.path.join(root_datafolder, strain)):\n",
    "        io = pynwb.NWBHDF5IO(os.path.join(root_datafolder, strain, fn), 'r')\n",
    "        nwbfile = io.read()\n",
    "        \n",
    "        # nasty way to get back to a python dictionary:\n",
    "        exec('metadata='+str(nwbfile.session_description))\n",
    "        subject_name = metadata['subject_props']['Subject-ID']\n",
    "        print('- file: %s -> subject: \"%s\" ' % (fn, subject_name))\n",
    "        Dataset[strain]['subjects'].append(subject_name)\n",
    "        Dataset[strain]['files'].append(fn)\n",
    "    print('%s Dataset: N=%i mice, N=%i sessions' % (strain, len(np.unique(Dataset[strain]['subjects'])), len(Dataset[strain]['files'])))"
   ]
  },
  {
   "cell_type": "markdown",
   "id": "ae94160b-dca1-4bb1-90dd-e1db8fee0632",
   "metadata": {},
   "source": [
    "## New Folder Structure"
   ]
  },
  {
   "cell_type": "code",
   "execution_count": 8,
   "id": "a0da801c-f54e-4c30-8840-1d50a7077e75",
   "metadata": {},
   "outputs": [
    {
     "name": "stdout",
     "output_type": "stream",
     "text": [
      "\n",
      "\n",
      "------ Wild-Type Dataset ------ \n",
      "sub-01/                                       (from: MAAD1_SSTcreXtdTomato)\n",
      "    sub-01_ses-01_2p-ff-gratings.nwb          (from: 2023_03_28-12-31-50.nwb)\n",
      "    sub-01_ses-02_2p-ff-gratings.nwb          (from: 2023_03_31-12-55-47.nwb)\n",
      "sub-02/                                       (from: MAAE1_SSTcreXtdTomato)\n",
      "    sub-02_ses-01_2p-ff-gratings.nwb          (from: 2023_04_19-12-03-19.nwb)\n",
      "    sub-02_ses-02_2p-ff-gratings.nwb          (from: 2023_04_21-17-01-03.nwb)\n",
      "sub-03/                                       (from: MAAF1_SSTcre)\n",
      "    sub-03_ses-01_2p-ff-gratings.nwb          (from: 2023_04_26-14-32-34.nwb)\n",
      "    sub-03_ses-02_2p-ff-gratings.nwb          (from: 2023_04_28-12-12-30.nwb)\n",
      "sub-04/                                       (from: MAAF2_SSTcre)\n",
      "    sub-04_ses-01_2p-ff-gratings.nwb          (from: 2023_05_04-16-33-57.nwb)\n",
      "    sub-04_ses-02_2p-ff-gratings.nwb          (from: 2023_05_05-16-02-45.nwb)\n",
      "sub-05/                                       (from: MAAG1_SSTcre)\n",
      "    sub-05_ses-01_2p-ff-gratings.nwb          (from: 2023_05_10-11-52-35.nwb)\n",
      "    sub-05_ses-02_2p-ff-gratings.nwb          (from: 2023_05_11-15-25-41.nwb)\n",
      "sub-06/                                       (from: MT1_SSTtdTomato)\n",
      "    sub-06_ses-01_2p-ff-gratings.nwb          (from: 2023_02_15-15-10-04.nwb)\n",
      "    sub-06_ses-02_2p-ff-gratings.nwb          (from: 2023_02_17-17-39-12.nwb)\n",
      "    sub-06_ses-03_2p-ff-gratings.nwb          (from: 2023_02_17-17-02-46.nwb)\n",
      "    sub-06_ses-04_2p-ff-gratings.nwb          (from: 2023_02_15-15-48-06.nwb)\n",
      "sub-07/                                       (from: MT2_SSTtdTomato)\n",
      "    sub-07_ses-01_2p-ff-gratings.nwb          (from: 2023_02_17-15-30-46.nwb)\n",
      "    sub-07_ses-02_2p-ff-gratings.nwb          (from: 2023_02_17-16-15-09.nwb)\n",
      "    sub-07_ses-03_2p-ff-gratings.nwb          (from: 2023_02_15-13-30-47.nwb)\n",
      "    sub-07_ses-04_2p-ff-gratings.nwb          (from: 2023_02_15-14-05-01.nwb)\n",
      "\n",
      "\n",
      "------ GluN1-KO Dataset ------ \n",
      "sub-01/                                       (from: MAAA1_SSTtdTomatoxGluN1KO)\n",
      "    sub-01_ses-01_2p-ff-gratings.nwb          (from: 2023_02_17-14-35-39.nwb)\n",
      "    sub-01_ses-02_2p-ff-gratings.nwb          (from: 2023_02_17-13-48-50.nwb)\n",
      "    sub-01_ses-03_2p-ff-gratings.nwb          (from: 2023_02_15-11-53-39.nwb)\n",
      "    sub-01_ses-04_2p-ff-gratings.nwb          (from: 2023_02_15-12-41-21.nwb)\n",
      "sub-02/                                       (from: MAAB2_SSTtdTomatoxGluN1KO)\n",
      "    sub-02_ses-01_2p-ff-gratings.nwb          (from: 2023_02_15-18-05-25.nwb)\n",
      "    sub-02_ses-02_2p-ff-gratings.nwb          (from: 2023_02_15-18-52-59.nwb)\n",
      "sub-03/                                       (from: MAAC4_SSTtdTomatoxGluN1KO)\n",
      "    sub-03_ses-01_2p-ff-gratings.nwb          (from: 2023_02_15-17-14-56.nwb)\n",
      "    sub-03_ses-02_2p-ff-gratings.nwb          (from: 2023_02_17-18-47-20.nwb)\n",
      "    sub-03_ses-03_2p-ff-gratings.nwb          (from: 2023_02_17-19-21-51.nwb)\n",
      "    sub-03_ses-04_2p-ff-gratings.nwb          (from: 2023_02_15-16-40-50.nwb)\n",
      "sub-04/                                       (from: MAAH1_SSTcreNR1)\n",
      "    sub-04_ses-01_2p-ff-gratings.nwb          (from: 2023_05_10-13-02-57.nwb)\n",
      "    sub-04_ses-02_2p-ff-gratings.nwb          (from: 2023_05_11-16-47-14.nwb)\n",
      "    sub-04_ses-03_2p-ff-gratings.nwb          (from: 2023_05_10-14-23-41.nwb)\n",
      "sub-05/                                       (from: MAAI1_SSTcreNR1)\n",
      "    sub-05_ses-01_2p-ff-gratings.nwb          (from: 2023_05_11-18-29-12.nwb)\n"
     ]
    }
   ],
   "source": [
    "for strain in ['Wild-Type', 'GluN1-KO']:\n",
    "    print('\\n\\n------ %s Dataset ------ ' % strain)\n",
    "    for s, subject in enumerate(np.unique(Dataset[strain]['subjects'])):\n",
    "        print('sub-%.2i/                                       (from: %s)' % (s+1, subject))\n",
    "        subCond = np.array(Dataset[strain]['subjects'])==subject\n",
    "        for session, fn in enumerate(np.array(Dataset[strain]['files'])[subCond]):\n",
    "            new_filename = 'sub-%.2i_ses-%.2i_2p-ff-gratings.nwb' % (s+1, session+1)\n",
    "            print('    %s          (from: %s)' % (new_filename, fn))"
   ]
  },
  {
   "cell_type": "code",
   "execution_count": null,
   "id": "0219e2a2-f048-47ce-b3d1-9bcc27f0ce9f",
   "metadata": {},
   "outputs": [],
   "source": []
  }
 ],
 "metadata": {
  "kernelspec": {
   "display_name": "Python 3 (ipykernel)",
   "language": "python",
   "name": "python3"
  },
  "language_info": {
   "codemirror_mode": {
    "name": "ipython",
    "version": 3
   },
   "file_extension": ".py",
   "mimetype": "text/x-python",
   "name": "python",
   "nbconvert_exporter": "python",
   "pygments_lexer": "ipython3",
   "version": "3.11.6"
  }
 },
 "nbformat": 4,
 "nbformat_minor": 5
}
