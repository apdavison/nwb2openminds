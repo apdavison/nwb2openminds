{
 "cells": [
  {
   "cell_type": "markdown",
   "id": "f6b2df0b",
   "metadata": {},
   "source": [
    "# Dataset of two-photon recording of NDNF+ interneurons\n",
    "\n",
    "Mouse strain: \"Ndnf-IRES-CreERT2\"\n",
    "\n",
    "see https://www.jax.org/strain/034875 \n"
   ]
  },
  {
   "cell_type": "code",
   "execution_count": 1,
   "id": "aa624149",
   "metadata": {},
   "outputs": [],
   "source": [
    "# general python modules for scientific analysis\n",
    "import os\n",
    "import numpy as np\n",
    "\n",
    "# load the NWB python API\n",
    "import pynwb\n",
    "\n",
    "# Data are stored as (nFeatures, nTimesamps) instead of (nTimesamps, nFeatures)\n",
    "# this generates a warning for each modality, so we disable them\n",
    "import warnings\n",
    "warnings.filterwarnings(\"ignore\")\n",
    "\n",
    "root_datafolder = os.path.join(os.path.expanduser('~'), 'Downloads', 'nwb-data-sharing-pipeline-NDNF-Wild-Type-2022')"
   ]
  },
  {
   "cell_type": "markdown",
   "id": "51b41498-fc5e-41c0-b012-8bd3f0636899",
   "metadata": {},
   "source": [
    "## Loop over datafiles"
   ]
  },
  {
   "cell_type": "code",
   "execution_count": 2,
   "id": "7ec92e35-c8ef-4d25-b1a1-59773f500bee",
   "metadata": {},
   "outputs": [
    {
     "name": "stdout",
     "output_type": "stream",
     "text": [
      "- file: 2022_12_16-12-03-30.nwb -> subject: \"Mouse_F2-NDNF\" \n",
      "- file: 2022_12_20-11-49-18.nwb -> subject: \"Mouse_E1-NDNF\" \n",
      "- file: 2022_12_20-12-31-08.nwb -> subject: \"Mouse_E1-NDNF\" \n",
      "- file: 2022_12_15-18-49-40.nwb -> subject: \"Mouse_E1-NDNF\" \n",
      "- file: 2022_12_16-11-00-09.nwb -> subject: \"Mouse_F1-NDNF\" \n",
      "- file: 2022_12_15-18-13-25.nwb -> subject: \"Mouse_E1-NDNF\" \n",
      "- file: 2022_12_16-10-15-42.nwb -> subject: \"Mouse_F1-NDNF\" \n",
      "- file: 2022_12_20-14-08-45.nwb -> subject: \"Mouse_E2-NDNF\" \n",
      "- file: 2022_12_14-13-27-41.nwb -> subject: \"Mouse_E1-NDNF\" \n",
      "- file: 2022_12_20-15-02-20.nwb -> subject: \"Mouse_F1-NDNF\" \n",
      "- file: 2022_12_16-12-47-57.nwb -> subject: \"Mouse_F3-NDNF\" \n",
      "- file: 2022_12_20-13-18-42.nwb -> subject: \"Mouse_E2-NDNF\" \n",
      "- file: 2022_12_16-14-29-38.nwb -> subject: \"Mouse_E2-NDNF\" \n",
      "- file: 2022_12_16-13-40-07.nwb -> subject: \"Mouse_E2-NDNF\" \n",
      "Dataset: N=5 mice, N=14 sessions\n"
     ]
    }
   ],
   "source": [
    "Dataset = {'files':[], 'subjects':[]}\n",
    "for fn in os.listdir(root_datafolder):\n",
    "    io = pynwb.NWBHDF5IO(os.path.join(root_datafolder, fn), 'r')\n",
    "    nwbfile = io.read()\n",
    "    exec('metadata='+str(nwbfile.session_description))\n",
    "    subject_name = metadata['subject_props']['Subject-ID']\n",
    "    print('- file: %s -> subject: \"%s\" ' % (fn, subject_name))\n",
    "    Dataset['subjects'].append(subject_name)\n",
    "    Dataset['files'].append(fn)\n",
    "print('Dataset: N=%i mice, N=%i sessions' % (len(np.unique(Dataset['subjects'])), len(Dataset['files'])))"
   ]
  },
  {
   "cell_type": "markdown",
   "id": "b1d18697-069a-452e-807b-2c070908604e",
   "metadata": {},
   "source": [
    "## New Folder structure"
   ]
  },
  {
   "cell_type": "code",
   "execution_count": 3,
   "id": "dd4f574f-a4e3-4d78-a644-0dd64730b5c4",
   "metadata": {},
   "outputs": [
    {
     "name": "stdout",
     "output_type": "stream",
     "text": [
      "sub-01/                                       (from: Mouse_E1-NDNF)\n",
      "    sub-01_ses-01_2p-visual-stim.nwb          (from: 2022_12_20-11-49-18.nwb)\n",
      "    sub-01_ses-02_2p-visual-stim.nwb          (from: 2022_12_20-12-31-08.nwb)\n",
      "    sub-01_ses-03_2p-visual-stim.nwb          (from: 2022_12_15-18-49-40.nwb)\n",
      "    sub-01_ses-04_2p-visual-stim.nwb          (from: 2022_12_15-18-13-25.nwb)\n",
      "    sub-01_ses-05_2p-visual-stim.nwb          (from: 2022_12_14-13-27-41.nwb)\n",
      "sub-02/                                       (from: Mouse_E2-NDNF)\n",
      "    sub-02_ses-01_2p-visual-stim.nwb          (from: 2022_12_20-14-08-45.nwb)\n",
      "    sub-02_ses-02_2p-visual-stim.nwb          (from: 2022_12_20-13-18-42.nwb)\n",
      "    sub-02_ses-03_2p-visual-stim.nwb          (from: 2022_12_16-14-29-38.nwb)\n",
      "    sub-02_ses-04_2p-visual-stim.nwb          (from: 2022_12_16-13-40-07.nwb)\n",
      "sub-03/                                       (from: Mouse_F1-NDNF)\n",
      "    sub-03_ses-01_2p-visual-stim.nwb          (from: 2022_12_16-11-00-09.nwb)\n",
      "    sub-03_ses-02_2p-visual-stim.nwb          (from: 2022_12_16-10-15-42.nwb)\n",
      "    sub-03_ses-03_2p-visual-stim.nwb          (from: 2022_12_20-15-02-20.nwb)\n",
      "sub-04/                                       (from: Mouse_F2-NDNF)\n",
      "    sub-04_ses-01_2p-visual-stim.nwb          (from: 2022_12_16-12-03-30.nwb)\n",
      "sub-05/                                       (from: Mouse_F3-NDNF)\n",
      "    sub-05_ses-01_2p-visual-stim.nwb          (from: 2022_12_16-12-47-57.nwb)\n"
     ]
    }
   ],
   "source": [
    "for s, subject in enumerate(np.unique(Dataset['subjects'])):\n",
    "    print('sub-%.2i/                                       (from: %s)' % (s+1, subject))\n",
    "    subCond = np.array(Dataset['subjects'])==subject\n",
    "    for session, fn in enumerate(np.array(Dataset['files'])[subCond]):\n",
    "        new_filename = 'sub-%.2i_ses-%.2i_2p-visual-stim.nwb' % (s+1, session+1)\n",
    "        print('    %s          (from: %s)' % (new_filename, fn))"
   ]
  },
  {
   "cell_type": "code",
   "execution_count": null,
   "id": "965f3a7c-cd83-4512-99e1-2d12e76715b7",
   "metadata": {},
   "outputs": [],
   "source": []
  }
 ],
 "metadata": {
  "kernelspec": {
   "display_name": "Python 3 (ipykernel)",
   "language": "python",
   "name": "python3"
  },
  "language_info": {
   "codemirror_mode": {
    "name": "ipython",
    "version": 3
   },
   "file_extension": ".py",
   "mimetype": "text/x-python",
   "name": "python",
   "nbconvert_exporter": "python",
   "pygments_lexer": "ipython3",
   "version": "3.11.6"
  }
 },
 "nbformat": 4,
 "nbformat_minor": 5
}
