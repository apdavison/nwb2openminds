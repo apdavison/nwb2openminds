{
 "cells": [
  {
   "cell_type": "markdown",
   "id": "f6b2df0b",
   "metadata": {},
   "source": [
    "# Dataset of two-photon recording of NDNF+ interneurons\n",
    "\n",
    "Mouse strain: \"Ndnf-IRES-CreERT2\"\n",
    "\n",
    "see https://www.jax.org/strain/034875 \n"
   ]
  },
  {
   "cell_type": "code",
   "execution_count": 2,
   "id": "aa624149",
   "metadata": {},
   "outputs": [],
   "source": [
    "# general python modules for scientific analysis\n",
    "import os\n",
    "import numpy as np\n",
    "\n",
    "# load the NWB python API\n",
    "import pynwb\n",
    "\n",
    "# Data are stored as (nFeatures, nTimesamps) instead of (nTimesamps, nFeatures)\n",
    "# this generates a warning for each modality, so we disable them\n",
    "import warnings\n",
    "warnings.filterwarnings(\"ignore\")\n",
    "\n",
    "root_datafolder = os.path.join(os.path.expanduser('~'), 'Downloads', 'nwb-data-sharing-pipeline-NDNF-Wild-Type-2022')"
   ]
  },
  {
   "cell_type": "markdown",
   "id": "51b41498-fc5e-41c0-b012-8bd3f0636899",
   "metadata": {},
   "source": [
    "# Loop over datafiles"
   ]
  },
  {
   "cell_type": "code",
   "execution_count": 6,
   "id": "7ec92e35-c8ef-4d25-b1a1-59773f500bee",
   "metadata": {},
   "outputs": [
    {
     "name": "stdout",
     "output_type": "stream",
     "text": [
      "- file: 2022_12_16-12-03-30.nwb -> subject: \"Mouse_F2-NDNF\" \n",
      "- file: 2022_12_20-11-49-18.nwb -> subject: \"Mouse_E1-NDNF\" \n",
      "- file: 2022_12_20-12-31-08.nwb -> subject: \"Mouse_E1-NDNF\" \n",
      "- file: 2022_12_15-18-49-40.nwb -> subject: \"Mouse_E1-NDNF\" \n",
      "- file: 2022_12_16-11-00-09.nwb -> subject: \"Mouse_F1-NDNF\" \n",
      "- file: 2022_12_15-18-13-25.nwb -> subject: \"Mouse_E1-NDNF\" \n",
      "- file: 2022_12_16-10-15-42.nwb -> subject: \"Mouse_F1-NDNF\" \n",
      "- file: 2022_12_20-14-08-45.nwb -> subject: \"Mouse_E2-NDNF\" \n",
      "- file: 2022_12_14-13-27-41.nwb -> subject: \"Mouse_E1-NDNF\" \n",
      "- file: 2022_12_20-15-02-20.nwb -> subject: \"Mouse_F1-NDNF\" \n",
      "- file: 2022_12_16-12-47-57.nwb -> subject: \"Mouse_F3-NDNF\" \n",
      "- file: 2022_12_20-13-18-42.nwb -> subject: \"Mouse_E2-NDNF\" \n",
      "- file: 2022_12_16-14-29-38.nwb -> subject: \"Mouse_E2-NDNF\" \n",
      "- file: 2022_12_16-13-40-07.nwb -> subject: \"Mouse_E2-NDNF\" \n",
      "Dataset: N=5 mice, N=14 sessions\n"
     ]
    }
   ],
   "source": [
    "SUBJECTS = []\n",
    "for fn in os.listdir(root_datafolder):\n",
    "    io = pynwb.NWBHDF5IO(os.path.join(root_datafolder, fn), 'r')\n",
    "    nwbfile = io.read()\n",
    "    \n",
    "    # nasty way to get back to a python dictionary:\n",
    "    exec('metadata='+str(nwbfile.session_description))\n",
    "    subject_name = metadata['subject_props']['Subject-ID']\n",
    "    print('- file: %s -> subject: \"%s\" ' % (fn, subject_name))\n",
    "    SUBJECTS.append(subject_name)\n",
    "print('Dataset: N=%i mice, N=%i sessions' % (len(np.unique(SUBJECTS)), len(SUBJECTS)))"
   ]
  }
 ],
 "metadata": {
  "kernelspec": {
   "display_name": "Python 3 (ipykernel)",
   "language": "python",
   "name": "python3"
  },
  "language_info": {
   "codemirror_mode": {
    "name": "ipython",
    "version": 3
   },
   "file_extension": ".py",
   "mimetype": "text/x-python",
   "name": "python",
   "nbconvert_exporter": "python",
   "pygments_lexer": "ipython3",
   "version": "3.11.6"
  }
 },
 "nbformat": 4,
 "nbformat_minor": 5
}
